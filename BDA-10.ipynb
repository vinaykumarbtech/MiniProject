{
 "cells": [
  {
   "cell_type": "code",
   "execution_count": 1,
   "id": "59eb84d1-e3e1-4b1d-86dd-db18773d03bf",
   "metadata": {},
   "outputs": [
    {
     "data": {
      "text/html": [
       "\n",
       "        <div>\n",
       "            <p><b>SparkContext</b></p>\n",
       "\n",
       "            <p><a href=\"http://LAPTOP-DA19D232.mshome.net:4041\">Spark UI</a></p>\n",
       "\n",
       "            <dl>\n",
       "              <dt>Version</dt>\n",
       "                <dd><code>v4.0.1</code></dd>\n",
       "              <dt>Master</dt>\n",
       "                <dd><code>local[*]</code></dd>\n",
       "              <dt>AppName</dt>\n",
       "                <dd><code>PySparkShell</code></dd>\n",
       "            </dl>\n",
       "        </div>\n",
       "        "
      ],
      "text/plain": [
       "<SparkContext master=local[*] appName=PySparkShell>"
      ]
     },
     "execution_count": 1,
     "metadata": {},
     "output_type": "execute_result"
    }
   ],
   "source": [
    "sc\n"
   ]
  },
  {
   "cell_type": "code",
   "execution_count": 2,
   "id": "7a60d0ac-04df-47b6-9fc7-1b900b348f00",
   "metadata": {},
   "outputs": [],
   "source": [
    " from pyspark.sql import SparkSession\n",
    " # Step 1: Initialize Spark Session\n",
    " spark = SparkSession.builder.appName(\"SamplingExample\").getOrCreate()"
   ]
  },
  {
   "cell_type": "code",
   "execution_count": 3,
   "id": "fb30c391-d123-4dfe-aaca-3519bc37a36a",
   "metadata": {},
   "outputs": [],
   "source": [
    " df = spark.read.csv(\"students.csv\", header=True, inferSchema=True)"
   ]
  },
  {
   "cell_type": "code",
   "execution_count": 4,
   "id": "49b9348a-c75c-4c77-b1c6-3559811ce278",
   "metadata": {},
   "outputs": [
    {
     "name": "stdout",
     "output_type": "stream",
     "text": [
      "=== First 5 rows of dataset ===\n",
      "+---+-------+---+------+----+-------+-------+\n",
      "| id|   name|age|gender|math|science|english|\n",
      "+---+-------+---+------+----+-------+-------+\n",
      "|  1|  Alice| 20|     F|  66|     92|     44|\n",
      "|  2|    Bob| 20|     M|  82|     52|     77|\n",
      "|  3|Charlie| 22|     F|  43|     57|     76|\n",
      "|  4|  David| 19|     M|  95|     69|     46|\n",
      "|  5|    Eva| 19|     F|  62|     44|     96|\n",
      "+---+-------+---+------+----+-------+-------+\n",
      "only showing top 5 rows\n"
     ]
    }
   ],
   "source": [
    " print(\"=== First 5 rows of dataset ===\")\n",
    " df.show(5)"
   ]
  },
  {
   "cell_type": "code",
   "execution_count": 5,
   "id": "7fa61f73-d908-4f45-b7f8-45a34bd01979",
   "metadata": {},
   "outputs": [
    {
     "name": "stdout",
     "output_type": "stream",
     "text": [
      "=== Schema of dataset ===\n",
      "root\n",
      " |-- id: integer (nullable = true)\n",
      " |-- name: string (nullable = true)\n",
      " |-- age: integer (nullable = true)\n",
      " |-- gender: string (nullable = true)\n",
      " |-- math: integer (nullable = true)\n",
      " |-- science: integer (nullable = true)\n",
      " |-- english: integer (nullable = true)\n",
      "\n"
     ]
    }
   ],
   "source": [
    " print(\"=== Schema of dataset ===\")\n",
    " df.printSchema()"
   ]
  },
  {
   "cell_type": "code",
   "execution_count": 6,
   "id": "0b75f58b-2cc0-47e6-be27-8242bec86815",
   "metadata": {},
   "outputs": [
    {
     "name": "stdout",
     "output_type": "stream",
     "text": [
      "=== Sample (30% without replacement) ===\n",
      "+---+------+---+------+----+-------+-------+\n",
      "| id|  name|age|gender|math|science|english|\n",
      "+---+------+---+------+----+-------+-------+\n",
      "|  4| David| 19|     M|  95|     69|     46|\n",
      "|  8| Henry| 21|     F|  53|     82|     60|\n",
      "| 17|Quincy| 18|     M|  65|     79|     54|\n",
      "| 19|   Sam| 18|     F|  76|     70|     65|\n",
      "| 27| Aaron| 25|     F|  81|     99|     44|\n",
      "| 28| Bella| 19|     F|  54|     76|     76|\n",
      "| 32| Fiona| 22|     F|  48|     96|     48|\n",
      "| 37|  Kyle| 21|     M|  57|     86|     92|\n",
      "| 39|  Matt| 25|     M|  64|     71|    100|\n",
      "| 41| Oscar| 20|     M|  87|     72|     81|\n",
      "+---+------+---+------+----+-------+-------+\n",
      "only showing top 10 rows\n"
     ]
    }
   ],
   "source": [
    " print(\"=== Sample (30% without replacement) ===\")\n",
    " df.sample(withReplacement=False, fraction=0.3, seed=42).show(10)"
   ]
  },
  {
   "cell_type": "code",
   "execution_count": 7,
   "id": "367d0f74-d0fb-4080-9785-01a7cd689c14",
   "metadata": {},
   "outputs": [
    {
     "name": "stdout",
     "output_type": "stream",
     "text": [
      "=== Sample (20% with replacement) ===\n",
      "+---+------+---+------+----+-------+-------+\n",
      "| id|  name|age|gender|math|science|english|\n",
      "+---+------+---+------+----+-------+-------+\n",
      "|  6| Frank| 22|     F|  70|     78|     94|\n",
      "|  7| Grace| 24|     F|  67|     66|     93|\n",
      "| 14|Nathan| 23|     F|  71|     66|     60|\n",
      "| 17|Quincy| 18|     M|  65|     79|     54|\n",
      "| 21|   Uma| 19|     F|  89|     70|     76|\n",
      "| 22|Victor| 22|     M|  96|     75|     56|\n",
      "| 31| Ethan| 24|     M|  53|     57|     45|\n",
      "| 32| Fiona| 22|     F|  48|     96|     48|\n",
      "| 35|   Ian| 21|     F|  72|     75|     70|\n",
      "| 38| Laura| 23|     M|  84|     73|     56|\n",
      "+---+------+---+------+----+-------+-------+\n",
      "only showing top 10 rows\n"
     ]
    }
   ],
   "source": [
    " print(\"=== Sample (20% with replacement) ===\")\n",
    " df.sample(withReplacement=True, fraction=0.2, seed=42).show(10)"
   ]
  },
  {
   "cell_type": "code",
   "execution_count": 9,
   "id": "12187476-afba-41ea-9ae6-bf8d20c3bd07",
   "metadata": {},
   "outputs": [
    {
     "name": "stdout",
     "output_type": "stream",
     "text": [
      "=== takeSample: 5 rows (without replacement) ===\n",
      "Row(id=35, name='Ian', age=21, gender='F', math=72, science=75, english=70)\n",
      "Row(id=26, name='Zoey', age=18, gender='M', math=42, science=48, english=42)\n",
      "Row(id=17, name='Quincy', age=18, gender='M', math=65, science=79, english=54)\n",
      "Row(id=43, name='Quinn', age=18, gender='F', math=56, science=60, english=87)\n",
      "Row(id=38, name='Laura', age=23, gender='M', math=84, science=73, english=56)\n"
     ]
    }
   ],
   "source": [
    " print(\"=== takeSample: 5 rows (without replacement) ===\")\n",
    " sampled_rows = df.rdd.takeSample(False, 5, seed=42)\n",
    " for row in sampled_rows:\n",
    "     print(row)"
   ]
  },
  {
   "cell_type": "code",
   "execution_count": 10,
   "id": "37aa92f3-964b-4eac-9b4d-260d73fde032",
   "metadata": {},
   "outputs": [
    {
     "name": "stdout",
     "output_type": "stream",
     "text": [
      "=== takeSample: 5 rows (with replacement) ===\n",
      "Row(id=35, name='Ian', age=21, gender='F', math=72, science=75, english=70)\n",
      "Row(id=26, name='Zoey', age=18, gender='M', math=42, science=48, english=42)\n",
      "Row(id=17, name='Quincy', age=18, gender='M', math=65, science=79, english=54)\n",
      "Row(id=43, name='Quinn', age=18, gender='F', math=56, science=60, english=87)\n",
      "Row(id=38, name='Laura', age=23, gender='M', math=84, science=73, english=56)\n"
     ]
    }
   ],
   "source": [
    " print(\"=== takeSample: 5 rows (with replacement) ===\")\n",
    " sampled_rows = df.rdd.takeSample(False, 5, seed=42)\n",
    " for row in sampled_rows:\n",
    "     print(row)"
   ]
  },
  {
   "cell_type": "code",
   "execution_count": 11,
   "id": "668dc7e5-b9a7-4070-b52b-5255e17aa406",
   "metadata": {},
   "outputs": [
    {
     "name": "stdout",
     "output_type": "stream",
     "text": [
      "Total rows in dataset: 50\n"
     ]
    }
   ],
   "source": [
    " print(\"Total rows in dataset:\", df.count())"
   ]
  },
  {
   "cell_type": "code",
   "execution_count": null,
   "id": "0da37ccb-3531-4ef1-99c7-2830d8b96083",
   "metadata": {},
   "outputs": [],
   "source": []
  }
 ],
 "metadata": {
  "kernelspec": {
   "display_name": "Python 3 (ipykernel)",
   "language": "python",
   "name": "python3"
  },
  "language_info": {
   "codemirror_mode": {
    "name": "ipython",
    "version": 3
   },
   "file_extension": ".py",
   "mimetype": "text/x-python",
   "name": "python",
   "nbconvert_exporter": "python",
   "pygments_lexer": "ipython3",
   "version": "3.11.9"
  }
 },
 "nbformat": 4,
 "nbformat_minor": 5
}
