{
 "cells": [
  {
   "cell_type": "code",
   "execution_count": 1,
   "id": "c2d389ac-a9d5-418c-9b72-59f66ad6f47d",
   "metadata": {},
   "outputs": [
    {
     "data": {
      "text/html": [
       "\n",
       "        <div>\n",
       "            <p><b>SparkContext</b></p>\n",
       "\n",
       "            <p><a href=\"http://LAPTOP-DA19D232.mshome.net:4040\">Spark UI</a></p>\n",
       "\n",
       "            <dl>\n",
       "              <dt>Version</dt>\n",
       "                <dd><code>v4.0.1</code></dd>\n",
       "              <dt>Master</dt>\n",
       "                <dd><code>local[*]</code></dd>\n",
       "              <dt>AppName</dt>\n",
       "                <dd><code>PySparkShell</code></dd>\n",
       "            </dl>\n",
       "        </div>\n",
       "        "
      ],
      "text/plain": [
       "<SparkContext master=local[*] appName=PySparkShell>"
      ]
     },
     "execution_count": 1,
     "metadata": {},
     "output_type": "execute_result"
    }
   ],
   "source": [
    "sc\n"
   ]
  },
  {
   "cell_type": "code",
   "execution_count": 2,
   "id": "8c90f72e-1b1d-4b0c-955c-51a9ff462b9e",
   "metadata": {},
   "outputs": [],
   "source": [
    "import random"
   ]
  },
  {
   "cell_type": "code",
   "execution_count": 3,
   "id": "a0838279-7df7-4fed-afd9-b5686e678ea6",
   "metadata": {},
   "outputs": [
    {
     "name": "stdout",
     "output_type": "stream",
     "text": [
      "Original List:\n",
      "[957, 106, 112, 366, 189, 609, 697, 49, 167, 118, 575, 542, 788, 818, 671, 418, 651, 579, 428, 949, 227, 762, 164, 639, 109, 716, 772, 511, 731, 855, 791, 991, 301, 25, 237, 30, 759, 115, 363, 240, 503, 720, 646, 231, 599, 185, 762, 380, 857, 561, 883, 999, 217, 937, 754, 871, 596, 488, 775, 106, 973, 399, 380, 380, 828, 91, 625, 285, 304, 804, 857, 117, 740, 672, 99, 955, 24, 283, 785, 394, 459, 93, 65, 779, 606, 87, 937, 97, 431, 362, 850, 486, 806, 584, 290, 719, 357, 472, 911, 92]\n"
     ]
    }
   ],
   "source": [
    " random_numbers = [random.randint(1, 1000) for _ in range(100)]\n",
    " print(\"Original List:\")\n",
    " print(random_numbers)"
   ]
  },
  {
   "cell_type": "code",
   "execution_count": 4,
   "id": "23208816-2f72-4174-b89b-98bbe515fdfb",
   "metadata": {},
   "outputs": [],
   "source": [
    " numbers_rdd = sc.parallelize(random_numbers)"
   ]
  },
  {
   "cell_type": "code",
   "execution_count": 5,
   "id": "afad9944-5983-4339-b645-ba4f1a3a4278",
   "metadata": {},
   "outputs": [],
   "source": [
    " even_numbers_rdd = numbers_rdd.filter(lambda x: x % 2 == 0)"
   ]
  },
  {
   "cell_type": "code",
   "execution_count": 6,
   "id": "685fdadf-a1a1-4739-8f7a-775b58396494",
   "metadata": {},
   "outputs": [
    {
     "name": "stdout",
     "output_type": "stream",
     "text": [
      "\n",
      "Even Numbers:\n",
      "[106, 112, 366, 118, 542, 788, 818, 418, 428, 762, 164, 716, 772, 30, 240, 720, 646, 762, 380, 754, 596, 488, 106, 380, 380, 828, 304, 804, 740, 672, 24, 394, 606, 362, 850, 486, 806, 584, 290, 472, 92]\n"
     ]
    }
   ],
   "source": [
    " even_numbers = even_numbers_rdd.collect()\n",
    " print(\"\\nEven Numbers:\")\n",
    " print(even_numbers)"
   ]
  },
  {
   "cell_type": "code",
   "execution_count": 7,
   "id": "544fab49-d389-40f1-8faf-f2760a8d1146",
   "metadata": {},
   "outputs": [],
   "source": [
    "sc.stop()"
   ]
  },
  {
   "cell_type": "code",
   "execution_count": null,
   "id": "9fa737c7-5c36-40de-ba7f-5bcf950acfad",
   "metadata": {},
   "outputs": [],
   "source": []
  }
 ],
 "metadata": {
  "kernelspec": {
   "display_name": "Python 3 (ipykernel)",
   "language": "python",
   "name": "python3"
  },
  "language_info": {
   "codemirror_mode": {
    "name": "ipython",
    "version": 3
   },
   "file_extension": ".py",
   "mimetype": "text/x-python",
   "name": "python",
   "nbconvert_exporter": "python",
   "pygments_lexer": "ipython3",
   "version": "3.11.9"
  }
 },
 "nbformat": 4,
 "nbformat_minor": 5
}
